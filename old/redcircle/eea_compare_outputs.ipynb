{
 "cells": [
  {
   "cell_type": "code",
   "execution_count": null,
   "metadata": {},
   "outputs": [],
   "source": [
    "import json\n",
    "import pickle\n",
    "from PIL import Image\n",
    "import glob\n",
    "from IPython.display import display\n",
    "import cv2\n",
    "import matplotlib.pyplot as plt\n",
    "from typing import Dict, List\n",
    "import os"
   ]
  },
  {
   "cell_type": "code",
   "execution_count": null,
   "metadata": {},
   "outputs": [],
   "source": [
    "images_dir = '/home/jessica/EPFL/Course/CS503-VisualIntelligence/Project/drivelm_nus_imgs_train/nuscenes/samples'\n",
    "prediction_1_path=\"/home/jessica/EPFL/Course/CS503-VisualIntelligence/Project/thinking-fast-and-furious/experiments/redcircle/outputs/test-eval-idefics2-8b-fine-tuned-redcircle-super-jazz-16-200step.json\"\n",
    "prediction_2_path=\"/home/jessica/EPFL/Course/CS503-VisualIntelligence/Project/thinking-fast-and-furious/experiments/redcircle-vb/outputs/test-eval-idefics2-8b-fine-tuned-redcircle-vb-200step.json\"\n",
    "prediction_3_path=\"/home/jessica/EPFL/Course/CS503-VisualIntelligence/Project/thinking-fast-and-furious/experiments/redcircle-vb/outputs/test-eval-idefics2-8b-fine-tuned-redcircle-vb-1000step.json\""
   ]
  },
  {
   "cell_type": "code",
   "execution_count": null,
   "metadata": {},
   "outputs": [],
   "source": [
    "with open(prediction_1_path, \"r\") as f:\n",
    "    predictions_1: List[str] = json.load(f)\n",
    "\n",
    "with open(prediction_2_path, \"r\") as f:\n",
    "    predictions_2: List[str] = json.load(f)\n",
    "\n",
    "with open(prediction_3_path, \"r\") as f:\n",
    "    predictions_3: List[str] = json.load(f)\n"
   ]
  },
  {
   "cell_type": "code",
   "execution_count": null,
   "metadata": {},
   "outputs": [],
   "source": [
    "IMAGE_PATH_PREFIX = '../nuscenes/samples'\n",
    "\n",
    "y_view_mapping = {\"MIDDLE\": 1, \"LEFT\": 0, \"RIGHT\": 2}\n",
    "\n",
    "def visualize_response(prediction_1, prediction_2,prediction_3, images_dir):\n",
    "    sample_id, frame_id, qid = prediction_1['id'].split('_')\n",
    "    image_paths=prediction_1[\"images\"]\n",
    "\n",
    "    fig, axes = plt.subplots(2, 3, figsize=(30, 10))\n",
    "    for i, (image_view, image_path) in enumerate(image_paths.items()):\n",
    "        # image_path = image_path.replace(IMAGE_PATH_PREFIX, images_dir)\n",
    "        image_path=os.path.join(images_dir, os.path.join(image_path.split('/')[-2],image_path.split('/')[-1]))\n",
    "        image = Image.open(image_path)\n",
    "        _, x, y = f\"{image_view}_MIDDLE\".split(\"_\")[:3]\n",
    "        x_id = int(x == 'BACK')\n",
    "        axes[x_id][y_view_mapping[y]].imshow(image)\n",
    "        axes[x_id][y_view_mapping[y]].set_title(image_view)\n",
    "        axes[x_id][y_view_mapping[y]].axis('off')\n",
    "\n",
    "    print(\"image id:\",prediction_1['id'])\n",
    "    print(f'Question ({prediction_1[\"question_type\"]}): {prediction_1[\"question_text\"]}\\n\\nGT: {prediction_1[\"gt\"]}\\n\\nRed circle: {prediction_1[\"answer\"]}\\n\\nRed circle vb (200): {prediction_2[\"answer\"]}\\n\\nRed circle vb (1000): {prediction_3[\"answer\"]}')\n",
    "    plt.show()"
   ]
  },
  {
   "cell_type": "code",
   "execution_count": null,
   "metadata": {},
   "outputs": [],
   "source": [
    "for i,(prediction1, prediction2, prediction3) in enumerate(zip(predictions_1, predictions_2, predictions_3)):\n",
    "    visualize_response(prediction1, prediction2, prediction3, images_dir)\n",
    "    print('_' * 80)"
   ]
  }
 ],
 "metadata": {
  "language_info": {
   "name": "python"
  }
 },
 "nbformat": 4,
 "nbformat_minor": 2
}
