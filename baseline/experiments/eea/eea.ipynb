{
 "cells": [
  {
   "cell_type": "code",
   "execution_count": 1,
   "metadata": {},
   "outputs": [],
   "source": [
    "import json\n",
    "\n",
    "def read_json(file):\n",
    "    with open(file) as f:\n",
    "        data = json.load(f)\n",
    "    return data\n",
    "\n",
    "data = read_json(\"data/v1_1_train_nus_ext_sample.json\")\n",
    "results = read_json(\"outputs/v1_1_train_nus_ext_sample_llama_results.json\")"
   ]
  },
  {
   "cell_type": "code",
   "execution_count": 15,
   "metadata": {},
   "outputs": [],
   "source": [
    "from termcolor import colored\n",
    "\n",
    "def display_next_prediction(data, results):\n",
    "    results_map = {}\n",
    "\n",
    "    for result in results:\n",
    "        results_map[result[\"id\"]] = result\n",
    "\n",
    "    for scene_id, scene in data.items():\n",
    "        frames = scene[\"key_frames\"]\n",
    "        \n",
    "        print(f\"{colored('Scene:', 'blue')} {scene_id}\")\n",
    "\n",
    "        for frame_id, frame in frames.items():\n",
    "            qa = frame[\"QA\"]\n",
    "            images = frame[\"image_paths\"]\n",
    "            tasks = [\"perception\", \"prediction\", \"planning\", \"behavior\"]\n",
    "            \n",
    "            print(f\"{colored('Frame:', 'blue')} {frame_id}\")\n",
    "\n",
    "            for i, task in enumerate(tasks):\n",
    "                for j, question in enumerate(qa[task]):\n",
    "                    offset = sum([len(qa[t]) for t in tasks[:i]])\n",
    "                    question_id = f\"{scene_id}_{frame_id}_{j+offset}\"\n",
    "                    result = results_map[question_id]\n",
    "                    print(f\"{colored('Question:', 'blue')} {question['Q']}\")\n",
    "                    print(f\"{colored('Answer:', 'blue')} {question['A']}\")\n",
    "                    print(f\"{colored('Model Input:', 'blue')} {result['question']}\")\n",
    "                    print(f\"{colored('Model Output:', 'blue')} {result['answer']}\")\n",
    "                    print(f\"{colored('Images:', 'blue')} {images}\")\n",
    "                    print()\n",
    "                    yield\n",
    "            \n",
    "            print()"
   ]
  },
  {
   "cell_type": "code",
   "execution_count": 16,
   "metadata": {},
   "outputs": [],
   "source": [
    "predictions = iter(display_next_prediction(data, results))"
   ]
  },
  {
   "cell_type": "code",
   "execution_count": 17,
   "metadata": {},
   "outputs": [
    {
     "name": "stdout",
     "output_type": "stream",
     "text": [
      "\u001b[34mScene:\u001b[0m 1fa63d31aaa7459383b4414715cd12db\n",
      "\u001b[34mFrame:\u001b[0m 30de1c4c6e1f41e59261a5c5e8ca38b0\n",
      "\u001b[34mQuestion:\u001b[0m What are the important objects in the current scene? Those objects will be considered for the future reasoning and driving decision.\n",
      "\u001b[34mAnswer:\u001b[0m There is a white truck to the front of the ego vehicle, a black car to the front of the ego vehicle, and a white sedan to the back of the ego vehicle. The IDs of these objects are <c1,CAM_FRONT,486.7,520.0>, <c2,CAM_FRONT,1235.8,584.2>, and <c3,CAM_BACK,1180.0,630.8>.\n",
      "\u001b[34mModel Input:\u001b[0m <image>\n",
      "What are the important objects in the current scene? Those objects will be considered for the future reasoning and driving decision.\n",
      "\u001b[34mModel Output:\u001b[0m There is a white sedan to the front of the ego vehicle, a white sedan to the front of the ego vehicle, a white sedan to the back of the ego vehicle, and a white sedan to the front of the ego vehicle. The IDs of these objects are <c1,CAM_FRONT,1000.0,500.0>, <c2,CAM_BACK,1000.0,500.0>, <c3,CAM_FRONT,1000.0,500.0>, and <c4,CAM_BACK,1000.0,500.0>.\n",
      "\u001b[34mImages:\u001b[0m {'CAM_FRONT': '../nuscenes/samples/CAM_FRONT/n015-2018-08-01-15-10-21+0800__CAM_FRONT__1533107698012460.jpg', 'CAM_FRONT_LEFT': '../nuscenes/samples/CAM_FRONT_LEFT/n015-2018-08-01-15-10-21+0800__CAM_FRONT_LEFT__1533107698004844.jpg', 'CAM_FRONT_RIGHT': '../nuscenes/samples/CAM_FRONT_RIGHT/n015-2018-08-01-15-10-21+0800__CAM_FRONT_RIGHT__1533107698020339.jpg', 'CAM_BACK': '../nuscenes/samples/CAM_BACK/n015-2018-08-01-15-10-21+0800__CAM_BACK__1533107698037525.jpg', 'CAM_BACK_LEFT': '../nuscenes/samples/CAM_BACK_LEFT/n015-2018-08-01-15-10-21+0800__CAM_BACK_LEFT__1533107698047423.jpg', 'CAM_BACK_RIGHT': '../nuscenes/samples/CAM_BACK_RIGHT/n015-2018-08-01-15-10-21+0800__CAM_BACK_RIGHT__1533107698027893.jpg'}\n",
      "\n"
     ]
    }
   ],
   "source": [
    "next(predictions)"
   ]
  }
 ],
 "metadata": {
  "kernelspec": {
   "display_name": "tff",
   "language": "python",
   "name": "python3"
  },
  "language_info": {
   "codemirror_mode": {
    "name": "ipython",
    "version": 3
   },
   "file_extension": ".py",
   "mimetype": "text/x-python",
   "name": "python",
   "nbconvert_exporter": "python",
   "pygments_lexer": "ipython3",
   "version": "3.10.8"
  }
 },
 "nbformat": 4,
 "nbformat_minor": 2
}
